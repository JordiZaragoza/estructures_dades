{
 "cells": [
  {
   "cell_type": "markdown",
   "id": "e7330aad",
   "metadata": {},
   "source": [
    "# Ejercicio 1"
   ]
  },
  {
   "cell_type": "markdown",
   "id": "77e5ee9a",
   "metadata": {},
   "source": [
    "### *Crea una lista que agrupe los meses del año en trimestres*"
   ]
  },
  {
   "cell_type": "code",
   "execution_count": 1,
   "id": "4643bb5f",
   "metadata": {},
   "outputs": [],
   "source": [
    "listameses = [[\"Enero\" , \"Febrero\" , \"Marzo\"] , [\"Abril\" , \"Mayo\" , \"Junio\"] , [\"Julio\" , \"Agosto\" , \"Septiembre\"] , [\"Octubre\" , \"Noviembre\" , \"Diciembre\"]]"
   ]
  },
  {
   "cell_type": "markdown",
   "id": "4c273d34",
   "metadata": {},
   "source": [
    "# Ejercicio 2"
   ]
  },
  {
   "cell_type": "markdown",
   "id": "b4d74d13",
   "metadata": {},
   "source": [
    "### *Crea un codigo que te permita acceder a:*"
   ]
  },
  {
   "cell_type": "markdown",
   "id": "a383ae97",
   "metadata": {},
   "source": [
    "###### *1. El segundo mes del primer trimestre*"
   ]
  },
  {
   "cell_type": "code",
   "execution_count": 16,
   "id": "a187c58c",
   "metadata": {},
   "outputs": [
    {
     "name": "stdout",
     "output_type": "stream",
     "text": [
      "Febrero\n"
     ]
    }
   ],
   "source": [
    "print(listameses[0][1]) # selecciono la lista que esta en el indice 0 de la lista principal, que es la primera. Y de esa lista el elemento que esta en el indice 1, que es el segundo.   "
   ]
  },
  {
   "cell_type": "markdown",
   "id": "6a3a06a2",
   "metadata": {},
   "source": [
    "###### *2. Los meses del primer trimestre*"
   ]
  },
  {
   "cell_type": "code",
   "execution_count": 17,
   "id": "d9335d16",
   "metadata": {},
   "outputs": [
    {
     "name": "stdout",
     "output_type": "stream",
     "text": [
      "['Enero', 'Febrero', 'Marzo']\n"
     ]
    }
   ],
   "source": [
    "print(listameses[0]) # selecciono la lista que esta en el indice 0 de la lista principal, que es la primera."
   ]
  },
  {
   "cell_type": "markdown",
   "id": "0992c5f8",
   "metadata": {},
   "source": [
    "###### *3. Septiembre y Octubre*"
   ]
  },
  {
   "cell_type": "code",
   "execution_count": 18,
   "id": "d9c393c0",
   "metadata": {},
   "outputs": [
    {
     "name": "stdout",
     "output_type": "stream",
     "text": [
      "Septiembre Octubre\n"
     ]
    }
   ],
   "source": [
    "print((listameses[2][2]) , (listameses[3][0]))"
   ]
  },
  {
   "cell_type": "markdown",
   "id": "9ee05a06",
   "metadata": {},
   "source": [
    "# Ejercicio 3"
   ]
  },
  {
   "cell_type": "markdown",
   "id": "d8d57602",
   "metadata": {},
   "source": [
    "### *Crear una lista con numeros desordenados*"
   ]
  },
  {
   "cell_type": "code",
   "execution_count": 5,
   "id": "bbf47a48",
   "metadata": {},
   "outputs": [
    {
     "name": "stdout",
     "output_type": "stream",
     "text": [
      "[9, 19, 8, 14, 0, 17, 15, 18, 7, 11]\n"
     ]
    }
   ],
   "source": [
    "import random\n",
    "\n",
    "listaNumeros = random.sample(range(0, 20), 10) # genero una lista random de 10 numeros entre el 0 y el 20\n",
    "print(listaNumeros)"
   ]
  },
  {
   "cell_type": "markdown",
   "id": "d09a42b9",
   "metadata": {},
   "source": [
    "###### *1. Cuantos numeros hay*"
   ]
  },
  {
   "cell_type": "code",
   "execution_count": 6,
   "id": "2ecb7736",
   "metadata": {},
   "outputs": [
    {
     "name": "stdout",
     "output_type": "stream",
     "text": [
      "10\n"
     ]
    }
   ],
   "source": [
    "print(len(listaNumeros))"
   ]
  },
  {
   "cell_type": "markdown",
   "id": "e025ffba",
   "metadata": {},
   "source": [
    "###### *2. Cuantas veces se repite el numero 3*"
   ]
  },
  {
   "cell_type": "code",
   "execution_count": 7,
   "id": "bd90fb74",
   "metadata": {},
   "outputs": [
    {
     "name": "stdout",
     "output_type": "stream",
     "text": [
      "0\n"
     ]
    }
   ],
   "source": [
    "print(listaNumeros.count(3))"
   ]
  },
  {
   "cell_type": "markdown",
   "id": "cbd25a8c",
   "metadata": {},
   "source": [
    "###### *3. Cuantas veces aparecen los numeros 3 y 4*"
   ]
  },
  {
   "cell_type": "code",
   "execution_count": 8,
   "id": "d9856505",
   "metadata": {},
   "outputs": [
    {
     "name": "stdout",
     "output_type": "stream",
     "text": [
      "0 0\n"
     ]
    }
   ],
   "source": [
    "print(listaNumeros.count(3) , listaNumeros.count(4))"
   ]
  },
  {
   "cell_type": "markdown",
   "id": "0f18c93c",
   "metadata": {},
   "source": [
    "###### *4. Cual es el numero mas grande*"
   ]
  },
  {
   "cell_type": "code",
   "execution_count": 9,
   "id": "901ccaff",
   "metadata": {},
   "outputs": [
    {
     "name": "stdout",
     "output_type": "stream",
     "text": [
      "19\n"
     ]
    }
   ],
   "source": [
    "print(max(listaNumeros))"
   ]
  },
  {
   "cell_type": "markdown",
   "id": "2023dbdd",
   "metadata": {},
   "source": [
    "###### *5. Cuales son los 3 numeros mas pequeños*"
   ]
  },
  {
   "cell_type": "code",
   "execution_count": 13,
   "id": "322631c6",
   "metadata": {},
   "outputs": [
    {
     "name": "stdout",
     "output_type": "stream",
     "text": [
      "[0, 7, 8]\n"
     ]
    }
   ],
   "source": [
    "listaNumeros.sort() # ordeno los numeros de menor a mayor\n",
    "print(listaNumeros[:3]) # imprimo por pantalla los 3 primeros numeros"
   ]
  },
  {
   "cell_type": "markdown",
   "id": "c99ae412",
   "metadata": {},
   "source": [
    "###### *6. Cual es el rango de esta lista*"
   ]
  },
  {
   "cell_type": "code",
   "execution_count": 14,
   "id": "9d3beb60",
   "metadata": {},
   "outputs": [
    {
     "name": "stdout",
     "output_type": "stream",
     "text": [
      "19\n"
     ]
    }
   ],
   "source": [
    "rango = max(listaNumeros) - min(listaNumeros)\n",
    "print(rango)"
   ]
  },
  {
   "cell_type": "markdown",
   "id": "a613b246",
   "metadata": {},
   "source": [
    "# Ejercicio 4"
   ]
  },
  {
   "cell_type": "markdown",
   "id": "82b1c415",
   "metadata": {},
   "source": [
    "### *Crear un diccionario*"
   ]
  },
  {
   "cell_type": "code",
   "execution_count": 3,
   "id": "640bf8b2",
   "metadata": {},
   "outputs": [],
   "source": [
    "compra = { \"Manzanas\" : {\"Qty\": 5, \"€\": 0.42}, \"Peras\" : {\"Qty\": 3, \"€\": 0.66} }"
   ]
  },
  {
   "cell_type": "markdown",
   "id": "847f2cf2",
   "metadata": {},
   "source": [
    "###### *1. Añade alguna fruta mas*"
   ]
  },
  {
   "cell_type": "code",
   "execution_count": 4,
   "id": "6aae0a49",
   "metadata": {},
   "outputs": [
    {
     "name": "stdout",
     "output_type": "stream",
     "text": [
      "{'Manzanas': {'Qty': 5, '€': 0.42}, 'Peras': {'Qty': 3, '€': 0.66}, 'Melocotones': {'Qty': 4, '€': 0.77}}\n"
     ]
    }
   ],
   "source": [
    "compra[\"Melocotones\"] = {\"Qty\": 4, \"€\": 0.77}\n",
    "print(compra)"
   ]
  },
  {
   "cell_type": "markdown",
   "id": "b96a83af",
   "metadata": {},
   "source": [
    "###### *2. Cuanto han costado las peras en total*"
   ]
  },
  {
   "cell_type": "code",
   "execution_count": 5,
   "id": "a6443f31",
   "metadata": {
    "scrolled": true
   },
   "outputs": [
    {
     "name": "stdout",
     "output_type": "stream",
     "text": [
      "1.98\n"
     ]
    }
   ],
   "source": [
    "totalPeras = compra[\"Peras\"][\"Qty\"] * compra[\"Peras\"][\"€\"] # extraigo y multiplico los valores de las claves.\n",
    "print(totalPeras)"
   ]
  },
  {
   "cell_type": "markdown",
   "id": "30302d84",
   "metadata": {},
   "source": [
    "###### *3. Cuantas frutas hemos comprado en total*"
   ]
  },
  {
   "cell_type": "code",
   "execution_count": 6,
   "id": "9d705449",
   "metadata": {},
   "outputs": [
    {
     "name": "stdout",
     "output_type": "stream",
     "text": [
      "12\n"
     ]
    }
   ],
   "source": [
    "cantPeras = compra[\"Peras\"][\"Qty\"] # extraigo el valor de la clave \"Qty\" de Peras\n",
    "\n",
    "cantManzanas = compra[\"Manzanas\"][\"Qty\"] # extraigo el valor de la clave \"Qty\" de Manzanas\n",
    "\n",
    "cantMelocotones = compra[\"Melocotones\"][\"Qty\"] # extraigo el valor de la clave \"Qty\" de Melocotones\n",
    "\n",
    "totalFrutas = cantPeras + cantManzanas + cantMelocotones # sumo los valores de las claves \"Qty\" de todas las frutas\n",
    "print(totalFrutas)"
   ]
  },
  {
   "cell_type": "markdown",
   "id": "1414a6de",
   "metadata": {},
   "source": [
    "###### *4. Cual es la fruta mas cara*"
   ]
  },
  {
   "cell_type": "code",
   "execution_count": 8,
   "id": "29b843ab",
   "metadata": {},
   "outputs": [
    {
     "name": "stdout",
     "output_type": "stream",
     "text": [
      "Melocotones\n"
     ]
    }
   ],
   "source": [
    "precioMasCaro = 0 # inicializo variables vacias para precio y fruta\n",
    "frutaMasCara = \"\"\n",
    "    \n",
    "for fruta,precio in compra.items(): # recorro el diccionario y voy comparando los precios.\n",
    "    if precio[\"€\"] > precioMasCaro:\n",
    "        frutaMasCara = fruta\n",
    "    \n",
    "print(frutaMasCara)"
   ]
  }
 ],
 "metadata": {
  "kernelspec": {
   "display_name": "Python 3",
   "language": "python",
   "name": "python3"
  },
  "language_info": {
   "codemirror_mode": {
    "name": "ipython",
    "version": 3
   },
   "file_extension": ".py",
   "mimetype": "text/x-python",
   "name": "python",
   "nbconvert_exporter": "python",
   "pygments_lexer": "ipython3",
   "version": "3.8.8"
  }
 },
 "nbformat": 4,
 "nbformat_minor": 5
}
